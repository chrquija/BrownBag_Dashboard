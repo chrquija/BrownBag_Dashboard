{
 "cells": [
  {
   "metadata": {},
   "cell_type": "markdown",
   "source": "# Mod2, Ch2, Variables and Statements",
   "id": "6ef77a744c847b3c"
  },
  {
   "metadata": {
    "ExecuteTime": {
     "end_time": "2025-09-16T02:17:18.594195Z",
     "start_time": "2025-09-16T02:17:18.587775Z"
    }
   },
   "cell_type": "code",
   "source": [
    "from faulthandler import cancel_dump_traceback_later\n",
    "\n",
    "from pygments.lexer import words\n",
    "\n",
    "print(\"Hello World!\")\n"
   ],
   "id": "e290b9a9bbd3f766",
   "outputs": [
    {
     "name": "stdout",
     "output_type": "stream",
     "text": [
      "Hello World!\n"
     ]
    }
   ],
   "execution_count": 5
  },
  {
   "metadata": {
    "ExecuteTime": {
     "end_time": "2025-09-16T02:17:32.649420Z",
     "start_time": "2025-09-16T02:17:32.642284Z"
    }
   },
   "cell_type": "code",
   "source": [
    "age = 21\n",
    "print(age)"
   ],
   "id": "3e6c613c384aff91",
   "outputs": [
    {
     "name": "stdout",
     "output_type": "stream",
     "text": [
      "21\n"
     ]
    }
   ],
   "execution_count": 7
  },
  {
   "metadata": {
    "ExecuteTime": {
     "end_time": "2025-09-16T02:17:58.159522Z",
     "start_time": "2025-09-16T02:17:58.152556Z"
    }
   },
   "cell_type": "code",
   "source": [
    "name = 'Joe'\n",
    "print(name)"
   ],
   "id": "4f45e8fa556578e9",
   "outputs": [
    {
     "name": "stdout",
     "output_type": "stream",
     "text": [
      "Joe\n"
     ]
    }
   ],
   "execution_count": 8
  },
  {
   "metadata": {
    "ExecuteTime": {
     "end_time": "2025-09-16T02:19:19.233488Z",
     "start_time": "2025-09-16T02:19:19.227861Z"
    }
   },
   "cell_type": "code",
   "source": "a,b,c,d=1,2,3,4",
   "id": "bbcfb9547ea42b41",
   "outputs": [],
   "execution_count": 9
  },
  {
   "metadata": {
    "ExecuteTime": {
     "end_time": "2025-09-16T02:20:06.257769Z",
     "start_time": "2025-09-16T02:20:06.248048Z"
    }
   },
   "cell_type": "code",
   "source": "a",
   "id": "4a1b8a6e0abb2550",
   "outputs": [
    {
     "data": {
      "text/plain": [
       "1"
      ]
     },
     "execution_count": 15,
     "metadata": {},
     "output_type": "execute_result"
    }
   ],
   "execution_count": 15
  },
  {
   "metadata": {
    "ExecuteTime": {
     "end_time": "2025-09-16T02:20:07.114206Z",
     "start_time": "2025-09-16T02:20:07.103814Z"
    }
   },
   "cell_type": "code",
   "source": "b",
   "id": "c0fe42d541ec0b1f",
   "outputs": [
    {
     "data": {
      "text/plain": [
       "2"
      ]
     },
     "execution_count": 16,
     "metadata": {},
     "output_type": "execute_result"
    }
   ],
   "execution_count": 16
  },
  {
   "metadata": {
    "ExecuteTime": {
     "end_time": "2025-09-16T02:20:10.759623Z",
     "start_time": "2025-09-16T02:20:10.746580Z"
    }
   },
   "cell_type": "code",
   "source": "c",
   "id": "5b6fd2a3bb33e598",
   "outputs": [
    {
     "data": {
      "text/plain": [
       "3"
      ]
     },
     "execution_count": 18,
     "metadata": {},
     "output_type": "execute_result"
    }
   ],
   "execution_count": 18
  },
  {
   "metadata": {
    "ExecuteTime": {
     "end_time": "2025-09-16T02:21:48.342831Z",
     "start_time": "2025-09-16T02:21:48.334725Z"
    }
   },
   "cell_type": "code",
   "source": "d",
   "id": "cb4dd68d26dffcf3",
   "outputs": [
    {
     "data": {
      "text/plain": [
       "4"
      ]
     },
     "execution_count": 21,
     "metadata": {},
     "output_type": "execute_result"
    }
   ],
   "execution_count": 21
  },
  {
   "metadata": {
    "ExecuteTime": {
     "end_time": "2025-09-16T02:22:02.585706Z",
     "start_time": "2025-09-16T02:22:02.578401Z"
    }
   },
   "cell_type": "markdown",
   "source": "# Examples of Integer, Float, and String",
   "id": "ea5165c7e35c1d24"
  },
  {
   "metadata": {
    "ExecuteTime": {
     "end_time": "2025-09-16T02:22:17.130281Z",
     "start_time": "2025-09-16T02:22:17.121128Z"
    }
   },
   "cell_type": "code",
   "source": [
    "# Integer\n",
    "age = 21\n",
    "print(age + 5)  # Output: 26\n",
    "\n",
    "# Float\n",
    "price = 19.99\n",
    "print(price * 2)  # Output: 39.98\n",
    "\n",
    "# String\n",
    "name = \"John\"\n",
    "print(name + \" Smith\")  # Output: John Smith"
   ],
   "id": "97d6fa09fa4da6ee",
   "outputs": [
    {
     "name": "stdout",
     "output_type": "stream",
     "text": [
      "26\n",
      "39.98\n",
      "John Smith\n"
     ]
    }
   ],
   "execution_count": 23
  },
  {
   "metadata": {
    "ExecuteTime": {
     "end_time": "2025-09-16T02:22:54.798524Z",
     "start_time": "2025-09-16T02:22:54.788039Z"
    }
   },
   "cell_type": "markdown",
   "source": [
    "## **Key Differences**\n",
    "\n",
    "| Type | Example | Can do math? | Has quotes? |\n",
    "| --- | --- | --- | --- |\n",
    "| Integer | `42` | ✅ Yes | ❌ No |\n",
    "| Float | `42.0` | ✅ Yes | ❌ No |\n",
    "| String | `\"42\"` | ❌ No* | ✅ Yes |\n"
   ],
   "id": "826b786fe90b969"
  },
  {
   "metadata": {
    "ExecuteTime": {
     "end_time": "2025-09-16T02:32:13.028209Z",
     "start_time": "2025-09-16T02:32:13.017392Z"
    }
   },
   "cell_type": "code",
   "source": [
    "a = (\"abc\")\n",
    "print(a)"
   ],
   "id": "ee66caf017c94ed4",
   "outputs": [
    {
     "name": "stdout",
     "output_type": "stream",
     "text": [
      "abc\n"
     ]
    }
   ],
   "execution_count": 25
  },
  {
   "metadata": {
    "ExecuteTime": {
     "end_time": "2025-09-16T02:32:33.669363Z",
     "start_time": "2025-09-16T02:32:33.659189Z"
    }
   },
   "cell_type": "code",
   "source": "b=\"def\"",
   "id": "f5d049183859b938",
   "outputs": [],
   "execution_count": 26
  },
  {
   "metadata": {
    "ExecuteTime": {
     "end_time": "2025-09-16T02:32:45.632962Z",
     "start_time": "2025-09-16T02:32:45.628277Z"
    }
   },
   "cell_type": "code",
   "source": "print(a+b)",
   "id": "6a3e5ce62a0bbc66",
   "outputs": [
    {
     "name": "stdout",
     "output_type": "stream",
     "text": [
      "abcdef\n"
     ]
    }
   ],
   "execution_count": 27
  },
  {
   "metadata": {
    "ExecuteTime": {
     "end_time": "2025-09-16T02:38:06.968034Z",
     "start_time": "2025-09-16T02:38:06.958230Z"
    }
   },
   "cell_type": "code",
   "source": [
    "a=1 #NO QUOTES indicate that these are integers so they will be added up normally\n",
    "b=2\n",
    "print(a+b) #integers"
   ],
   "id": "e35bd3e679e5e6e5",
   "outputs": [
    {
     "name": "stdout",
     "output_type": "stream",
     "text": [
      "3\n"
     ]
    }
   ],
   "execution_count": 31
  },
  {
   "metadata": {
    "ExecuteTime": {
     "end_time": "2025-09-16T02:37:25.059417Z",
     "start_time": "2025-09-16T02:37:25.048948Z"
    }
   },
   "cell_type": "code",
   "source": [
    "a=(\"1\") #the quotes are important because we converted it to a string\n",
    "b=(\"2\")\n",
    "print(a+b)\n"
   ],
   "id": "4e4150b1f307de17",
   "outputs": [
    {
     "name": "stdout",
     "output_type": "stream",
     "text": [
      "12\n"
     ]
    }
   ],
   "execution_count": 30
  },
  {
   "metadata": {
    "ExecuteTime": {
     "end_time": "2025-09-16T02:38:27.340049Z",
     "start_time": "2025-09-16T02:38:27.331280Z"
    }
   },
   "cell_type": "markdown",
   "source": [
    "# the input() function\n",
    "The input() function always captures strings. If you need to convert it to other data types use the co-respoonding \"cast\" function.\n",
    "\n",
    "The input() funciton below will display \"5\" as a prompt and waits for user input\n",
    "\n"
   ],
   "id": "556b3bbc3f087490"
  },
  {
   "metadata": {
    "ExecuteTime": {
     "end_time": "2025-09-16T02:55:07.629072Z",
     "start_time": "2025-09-16T02:55:05.329652Z"
    }
   },
   "cell_type": "code",
   "source": [
    "user_input = input(\"5\")\n",
    "user_input = int(user_input)\n",
    "print(user_input)"
   ],
   "id": "a278f4f7ecf666ae",
   "outputs": [
    {
     "name": "stdout",
     "output_type": "stream",
     "text": [
      "5\n"
     ]
    }
   ],
   "execution_count": 5
  },
  {
   "metadata": {
    "ExecuteTime": {
     "end_time": "2025-09-16T02:55:20.244420Z",
     "start_time": "2025-09-16T02:55:20.238075Z"
    }
   },
   "cell_type": "markdown",
   "source": [
    "# Variables and Constants\n",
    "\n",
    "### Variables in python can be changed anything. This may introduce logic errors in your program\n",
    "### **One convention** is to create \"Constants\"\n",
    "#### Example # Variables can be changed (mutable)\n",
    "player_score = 100\n",
    "print(f\"Initial score: {player_score}\")\n",
    "\n",
    "player_score = 150  # This can be changed anytime\n",
    "print(f\"New score: {player_score}\")\n",
    "\n",
    "player_score += 50  # Can be modified further\n",
    "print(f\"Final score: {player_score}\")"
   ],
   "id": "e6723d7daee17d9e"
  },
  {
   "metadata": {
    "ExecuteTime": {
     "end_time": "2025-09-16T02:58:20.309278Z",
     "start_time": "2025-09-16T02:58:20.301896Z"
    }
   },
   "cell_type": "markdown",
   "source": [
    "# More about Strings\n",
    "\n",
    "#### You may enclose strings in single or double quotation marks. For example:\n",
    "#### a = 'Hello'\n",
    "#### a = \"Hello\"\n",
    "#### You may also include special characters. For example:\n",
    "#### \\\\ Single backlash\n",
    "#### \\' Single quote\n",
    "#### \\\" Double quote\n",
    "#### \\n New line\n",
    "\n"
   ],
   "id": "8bb96de30139de98"
  },
  {
   "metadata": {
    "ExecuteTime": {
     "end_time": "2025-09-16T03:02:39.685048Z",
     "start_time": "2025-09-16T03:02:39.677107Z"
    }
   },
   "cell_type": "markdown",
   "source": "### Adding two strings can be done explicitly using the + operator or implicity simply by listing the strings. Example",
   "id": "6aa1578c6b4ee957"
  },
  {
   "metadata": {
    "ExecuteTime": {
     "end_time": "2025-09-16T03:06:34.988232Z",
     "start_time": "2025-09-16T03:06:34.979366Z"
    }
   },
   "cell_type": "code",
   "source": [
    "first_name = \"Matthew\"\n",
    "last_name = \" is cool\"\n",
    "print(first_name,last_name) #explicit concatenation because we are adding the strings by their assigned names\n"
   ],
   "id": "cd2aa08034a38425",
   "outputs": [
    {
     "name": "stdout",
     "output_type": "stream",
     "text": [
      "Matthew  is cool\n"
     ]
    }
   ],
   "execution_count": 21
  },
  {
   "metadata": {
    "ExecuteTime": {
     "end_time": "2025-09-16T03:06:45.260667Z",
     "start_time": "2025-09-16T03:06:45.254109Z"
    }
   },
   "cell_type": "code",
   "source": [
    "whole_name ='Ruben''Quinonez' #implicit concatenation because listing the strings\n",
    "print(whole_name)"
   ],
   "id": "e1fb2cccfcf69dc7",
   "outputs": [
    {
     "name": "stdout",
     "output_type": "stream",
     "text": [
      "RubenQuinonez\n"
     ]
    }
   ],
   "execution_count": 22
  },
  {
   "metadata": {
    "ExecuteTime": {
     "end_time": "2025-09-16T03:07:46.400736Z",
     "start_time": "2025-09-16T03:07:46.392366Z"
    }
   },
   "cell_type": "markdown",
   "source": [
    "## The print() function and f-strings\n",
    "#### python has a special type of string that is prefixed with the letter f.\n",
    "#### F-strings support placeholders for variables \n",
    "## for example"
   ],
   "id": "d04a87378495d36"
  },
  {
   "metadata": {},
   "cell_type": "markdown",
   "source": [
    "Looking at the selected cell, I can see there's a syntax error - the string assignment is not properly closed and the print statement is incorrectly placed inside the string literal.\n",
    "\n"
   ],
   "id": "1e38b257deb88d3b"
  },
  {
   "metadata": {
    "ExecuteTime": {
     "end_time": "2025-09-16T03:09:23.106375Z",
     "start_time": "2025-09-16T03:09:23.098343Z"
    }
   },
   "cell_type": "code",
   "source": [
    "first_name = \"ZaraOne_HD\"\n",
    "print(f'Hello {first_name}!')\n"
   ],
   "id": "79b79eb4c907655e",
   "outputs": [
    {
     "name": "stdout",
     "output_type": "stream",
     "text": [
      "Hello ZaraOne_HD!\n"
     ]
    }
   ],
   "execution_count": 25
  },
  {
   "metadata": {},
   "cell_type": "code",
   "outputs": [],
   "execution_count": null,
   "source": "",
   "id": "9a7887410f6cc0a3"
  }
 ],
 "metadata": {
  "kernelspec": {
   "display_name": "Python 3",
   "language": "python",
   "name": "python3"
  },
  "language_info": {
   "codemirror_mode": {
    "name": "ipython",
    "version": 2
   },
   "file_extension": ".py",
   "mimetype": "text/x-python",
   "name": "python",
   "nbconvert_exporter": "python",
   "pygments_lexer": "ipython2",
   "version": "2.7.6"
  }
 },
 "nbformat": 4,
 "nbformat_minor": 5
}
